{
 "cells": [
  {
   "cell_type": "code",
   "execution_count": 1,
   "metadata": {},
   "outputs": [],
   "source": [
    "from nba_api.stats.endpoints import playergamelog, leaguegamelog, commonplayerinfo\n",
    "from nba_api.stats.static import players\n",
    "from nba_api.stats.library.parameters import SeasonType\n",
    "import pandas as pd\n",
    "import time\n",
    "import datetime\n",
    "from datetime import datetime"
   ]
  },
  {
   "cell_type": "code",
   "execution_count": null,
   "metadata": {},
   "outputs": [],
   "source": [
    "hist_player_log_full = pd.read_pickle('player_log_complete')"
   ]
  },
  {
   "cell_type": "code",
   "execution_count": 2,
   "metadata": {},
   "outputs": [],
   "source": [
    "#grab all player career start date and end dates\n",
    "nba_players = players.get_players()\n",
    "\n",
    "hist_player_info_full = pd.DataFrame()\n",
    "for i in range(0, len(nba_players)):\n",
    "    player_id = nba_players[i]['id']\n",
    "    player_info = commonplayerinfo.CommonPlayerInfo(player_id=player_id).get_data_frames()[0][\n",
    "        ['PERSON_ID', 'BIRTHDATE', 'FROM_YEAR', 'TO_YEAR','HEIGHT', 'WEIGHT', 'POSITION']]\n",
    "    hist_player_info_full = hist_player_info_full.append(player_info, ignore_index=True)\n",
    "    time.sleep(0.25)"
   ]
  },
  {
   "cell_type": "code",
   "execution_count": null,
   "metadata": {},
   "outputs": [],
   "source": [
    "#Convert player height to inches\n",
    "hist_player_info_full['HEIGHT'] = hist_player_info_full['HEIGHT'].apply(\n",
    "    lambda x: float(str(x).split(\"-\")[0]) * 12 + float(str(x).split(\"-\")[1]) if len(str(x).split(\"-\"))==2\n",
    "    else ((str(x).split(\"-\")[0]) * 12 if len(str(x).split(\"-\"))==1 else x))"
   ]
  },
  {
   "cell_type": "code",
   "execution_count": null,
   "metadata": {},
   "outputs": [],
   "source": [
    "hist_player_info_full.to_pickle('hist_player_info')"
   ]
  },
  {
   "cell_type": "code",
   "execution_count": 7,
   "metadata": {},
   "outputs": [],
   "source": [
    "hist_player_log_sup = pd.DataFrame()\n",
    "nba_players[0]['full_name']\n",
    "for i in range(0, len(nba_players)):\n",
    "    player_id = nba_players[i]['id']\n",
    "    hist_player_log = playergamelog.PlayerGameLog(player_id=player_id, date_from_nullable='11/04/1994'\n",
    "                                                  , date_to_nullable='11/29/2000', season_all='ALL'\n",
    "                                                  , season_type_all_star='Regular Season').get_data_frames()[0]\n",
    "    hist_player_log['full_name'] = nba_players[i]['full_name']\n",
    "    hist_player_log_sup = hist_player_log_sup.append(hist_player_log, ignore_index=True)\n",
    "    time.sleep(0.5)"
   ]
  },
  {
   "cell_type": "code",
   "execution_count": 8,
   "metadata": {},
   "outputs": [],
   "source": [
    "# hist_player_log_sup.to_csv('hist_player_log_19941999.csv', index=False)"
   ]
  },
  {
   "cell_type": "code",
   "execution_count": 16,
   "metadata": {},
   "outputs": [],
   "source": [
    "hist_player_log_sup.head()\n",
    "hist_player_log_sup['Date'] = hist_player_log_sup['GAME_DATE'].apply(lambda x: datetime.strptime(x, '%b %d, %Y'))"
   ]
  },
  {
   "cell_type": "code",
   "execution_count": 21,
   "metadata": {},
   "outputs": [],
   "source": [
    "# hist_player_info_full=pd.from_pickle('hist_player_info')"
   ]
  },
  {
   "cell_type": "code",
   "execution_count": 22,
   "metadata": {},
   "outputs": [],
   "source": [
    "# #Merge with dataset\n",
    "# hist_player_log_full = hist_player_log_sup.merge(hist_player_info_full[['PERSON_ID', 'BIRTHDATE', 'FROM_YEAR', 'HEIGHT', 'WEIGHT', 'POSITION']].drop_duplicates()\n",
    "#                            , left_on='Player_ID' , right_on='PERSON_ID', how='inner')"
   ]
  },
  {
   "cell_type": "code",
   "execution_count": 23,
   "metadata": {},
   "outputs": [],
   "source": [
    "# hist_player_log_full.to_csv('hist_player_log_sup_20002004.csv', index=False)"
   ]
  },
  {
   "cell_type": "code",
   "execution_count": 19,
   "metadata": {},
   "outputs": [],
   "source": [
    "hist_player_log_full = pd.read_pickle('player_log_complete')\n",
    "hist_player_log_new = hist_player_log_full.drop(['PERSON_ID', 'BIRTHDATE', 'FROM_YEAR', 'HEIGHT', 'WEIGHT', 'POSITION'], axis=1).\\\n",
    "        append(hist_player_log_sup, ignore_index=True, sort=False)\n",
    "hist_player_log_new.to_pickle('player_log_complete_new')"
   ]
  },
  {
   "cell_type": "code",
   "execution_count": 46,
   "metadata": {},
   "outputs": [
    {
     "name": "stdout",
     "output_type": "stream",
     "text": [
      "2015-10-27 00:00:00 2019-01-11 00:00:00 97014\n"
     ]
    }
   ],
   "source": [
    "hist_player_log_full = pd.read_csv('hist_player_log.csv')\n",
    "hist_player_log_full['Date'] = hist_player_log_full['GAME_DATE'].apply(lambda x: datetime.strptime(x, '%b %d, %Y'))\n",
    "print(hist_player_log_full['Date'].min(), hist_player_log_full['Date'].max(), len(hist_player_log_full))"
   ]
  },
  {
   "cell_type": "code",
   "execution_count": null,
   "metadata": {},
   "outputs": [],
   "source": [
    "hist_player_log_2002 = pd.read_csv('hist_player_log_20002004.csv')\n",
    "hist_player_log_2002['Date'] = hist_player_log_2002['GAME_DATE'].apply(lambda x: datetime.strptime(x, '%b %d, %Y'))\n",
    "print(hist_player_log_2002['Date'].min(), hist_player_log_2002['Date'].max(), len(hist_player_log_2002))"
   ]
  },
  {
   "cell_type": "code",
   "execution_count": 47,
   "metadata": {},
   "outputs": [
    {
     "name": "stdout",
     "output_type": "stream",
     "text": [
      "2000-10-31 00:00:00 2004-04-14 00:00:00 95717\n"
     ]
    }
   ],
   "source": [
    "hist_player_log_2002 = pd.read_csv('hist_player_log_20002004.csv')\n",
    "hist_player_log_2002['Date'] = hist_player_log_2002['GAME_DATE'].apply(lambda x: datetime.strptime(x, '%b %d, %Y'))\n",
    "print(hist_player_log_2002['Date'].min(), hist_player_log_2002['Date'].max(), len(hist_player_log_2002))"
   ]
  },
  {
   "cell_type": "code",
   "execution_count": 48,
   "metadata": {},
   "outputs": [
    {
     "name": "stdout",
     "output_type": "stream",
     "text": [
      "2004-11-02 00:00:00 2010-10-26 00:00:00 149345\n"
     ]
    }
   ],
   "source": [
    "hist_player_log_2004 = pd.read_csv('hist_player_log_20042010.csv')\n",
    "hist_player_log_2004['Date'] = hist_player_log_2004['GAME_DATE'].apply(lambda x: datetime.strptime(x, '%b %d, %Y'))\n",
    "print(hist_player_log_2004['Date'].min(), hist_player_log_2004['Date'].max(), len(hist_player_log_2004))"
   ]
  },
  {
   "cell_type": "code",
   "execution_count": 49,
   "metadata": {},
   "outputs": [
    {
     "name": "stdout",
     "output_type": "stream",
     "text": [
      "2010-10-27 00:00:00 2015-04-15 00:00:00 123209\n"
     ]
    }
   ],
   "source": [
    "hist_player_log_2010 = pd.read_csv('hist_player_log_20102015.csv')\n",
    "hist_player_log_2010['Date'] = hist_player_log_2010['GAME_DATE'].apply(lambda x: datetime.strptime(x, '%b %d, %Y'))\n",
    "print(hist_player_log_2010['Date'].min(), hist_player_log_2010['Date'].max(), len(hist_player_log_2010))"
   ]
  },
  {
   "cell_type": "code",
   "execution_count": 56,
   "metadata": {},
   "outputs": [
    {
     "data": {
      "text/plain": [
       "465285"
      ]
     },
     "execution_count": 56,
     "metadata": {},
     "output_type": "execute_result"
    }
   ],
   "source": [
    "#bind all datasets together\n",
    "player_log_complete = hist_player_log_2002.append(hist_player_log_2004, ignore_index=True, sort=False).append(hist_player_log_2010, ignore_index=True, sort=False).\\\n",
    "            append(hist_player_log_full, ignore_index=True, sort=False)\n",
    "#drop duplicates just in case.\n",
    "player_log_complete = player_log_complete.drop_duplicates()"
   ]
  },
  {
   "cell_type": "code",
   "execution_count": 57,
   "metadata": {},
   "outputs": [],
   "source": [
    "# player_log_complete.to_pickle('player_log_complete')"
   ]
  }
 ],
 "metadata": {
  "kernelspec": {
   "display_name": "Python 3",
   "language": "python",
   "name": "python3"
  },
  "language_info": {
   "codemirror_mode": {
    "name": "ipython",
    "version": 3
   },
   "file_extension": ".py",
   "mimetype": "text/x-python",
   "name": "python",
   "nbconvert_exporter": "python",
   "pygments_lexer": "ipython3",
   "version": "3.7.2"
  }
 },
 "nbformat": 4,
 "nbformat_minor": 2
}

{
 "cells": [
  {
   "cell_type": "code",
   "execution_count": 136,
   "metadata": {},
   "outputs": [],
   "source": [
    "import warnings\n",
    "warnings.filterwarnings(action='once')\n",
    "import numpy as np\n",
    "import pandas as pd\n",
    "import datetime as dt\n",
    "from datetime import datetime\n",
    "import matplotlib.pyplot as plt\n",
    "from compile_injury_and_gamelog import full_injury_data_final, hist_player_log_full\n",
    "%matplotlib inline"
   ]
  },
  {
   "cell_type": "code",
   "execution_count": 137,
   "metadata": {},
   "outputs": [
    {
     "data": {
      "text/plain": [
       "Index(['SEASON_ID', 'Player_ID', 'Game_ID', 'GAME_DATE', 'MATCHUP', 'WL',\n",
       "       'MIN', 'FGM', 'FGA', 'FG_PCT', 'FG3M', 'FG3A', 'FG3_PCT', 'FTM', 'FTA',\n",
       "       'FT_PCT', 'OREB', 'DREB', 'REB', 'AST', 'STL', 'BLK', 'TOV', 'PF',\n",
       "       'PTS', 'PLUS_MINUS', 'VIDEO_AVAILABLE', 'full_name', 'PERSON_ID',\n",
       "       'BIRTHDATE', 'FROM_YEAR', 'HEIGHT', 'WEIGHT', 'POSITION', 'Date',\n",
       "       'InjuryFlag', 'GameFlag'],\n",
       "      dtype='object')"
      ]
     },
     "execution_count": 137,
     "metadata": {},
     "output_type": "execute_result"
    }
   ],
   "source": [
    "hist_player_log_full.columns"
   ]
  },
  {
   "cell_type": "code",
   "execution_count": 138,
   "metadata": {},
   "outputs": [
    {
     "data": {
      "text/plain": [
       "Index(['Date', 'Team', 'Acquired', 'Relinquished', 'Notes', 'full_name_raw',\n",
       "       'full_name_main', 'full_name_alt', 'full_name_brack', 'injury_class',\n",
       "       'notes_clean', 'injury_position_left', 'injury_position_right',\n",
       "       'injury_position_upper', 'injury_position_lower', 'injury_surgery',\n",
       "       'injury_strained', 'injury_sprained', 'injury_sore', 'injury_details',\n",
       "       'injury_anat', 'injury_anat_partone', 'full_name_x', '_merge',\n",
       "       'PERSON_ID', 'BIRTHDATE', 'FROM_YEAR', 'HEIGHT', 'WEIGHT', 'POSITION',\n",
       "       'full_name_y', 'InjuryFlag', 'GameFlag'],\n",
       "      dtype='object')"
      ]
     },
     "execution_count": 138,
     "metadata": {},
     "output_type": "execute_result"
    }
   ],
   "source": [
    "full_injury_data_final.columns"
   ]
  },
  {
   "cell_type": "markdown",
   "metadata": {
    "heading_collapsed": true
   },
   "source": [
    "## Merge the injury and game datasets together"
   ]
  },
  {
   "cell_type": "code",
   "execution_count": 139,
   "metadata": {
    "hidden": true
   },
   "outputs": [],
   "source": [
    "## What columns do we want?\n",
    "\n",
    "INJURY_DATA_COLUMNS = ['full_name_main','Date', 'injury_anat_partone', 'InjuryFlag','POSITION', 'GameFlag']\n",
    "\n",
    "GAME_LOG_COLUMNS = ['full_name', 'Date', 'MIN', 'FGM', 'FGA', 'FG_PCT', 'FG3M', 'FG3A', 'FG3_PCT', 'FTM', 'FTA',\n",
    "       'FT_PCT', 'OREB', 'DREB', 'REB', 'AST', 'STL', 'BLK', 'TOV', 'PF', 'PTS', 'BIRTHDATE','POSITION', 'InjuryFlag', 'GameFlag']"
   ]
  },
  {
   "cell_type": "code",
   "execution_count": 140,
   "metadata": {
    "hidden": true
   },
   "outputs": [
    {
     "data": {
      "text/html": [
       "<div>\n",
       "<style scoped>\n",
       "    .dataframe tbody tr th:only-of-type {\n",
       "        vertical-align: middle;\n",
       "    }\n",
       "\n",
       "    .dataframe tbody tr th {\n",
       "        vertical-align: top;\n",
       "    }\n",
       "\n",
       "    .dataframe thead th {\n",
       "        text-align: right;\n",
       "    }\n",
       "</style>\n",
       "<table border=\"1\" class=\"dataframe\">\n",
       "  <thead>\n",
       "    <tr style=\"text-align: right;\">\n",
       "      <th></th>\n",
       "      <th>full_name</th>\n",
       "      <th>Date</th>\n",
       "      <th>MIN</th>\n",
       "      <th>FGM</th>\n",
       "      <th>FGA</th>\n",
       "      <th>FG_PCT</th>\n",
       "      <th>FG3M</th>\n",
       "      <th>FG3A</th>\n",
       "      <th>FG3_PCT</th>\n",
       "      <th>FTM</th>\n",
       "      <th>...</th>\n",
       "      <th>STL</th>\n",
       "      <th>BLK</th>\n",
       "      <th>TOV</th>\n",
       "      <th>PF</th>\n",
       "      <th>PTS</th>\n",
       "      <th>BIRTHDATE</th>\n",
       "      <th>POSITION</th>\n",
       "      <th>InjuryFlag</th>\n",
       "      <th>GameFlag</th>\n",
       "      <th>injury_anat_partone</th>\n",
       "    </tr>\n",
       "  </thead>\n",
       "  <tbody>\n",
       "    <tr>\n",
       "      <td>35713</td>\n",
       "      <td>AJ Hammons</td>\n",
       "      <td>2016-10-28</td>\n",
       "      <td>1.0</td>\n",
       "      <td>0.0</td>\n",
       "      <td>0.0</td>\n",
       "      <td>0.0</td>\n",
       "      <td>0.0</td>\n",
       "      <td>0.0</td>\n",
       "      <td>0.0</td>\n",
       "      <td>0.0</td>\n",
       "      <td>...</td>\n",
       "      <td>0.0</td>\n",
       "      <td>0.0</td>\n",
       "      <td>0.0</td>\n",
       "      <td>0.0</td>\n",
       "      <td>0.0</td>\n",
       "      <td>1992-08-27T00:00:00</td>\n",
       "      <td>Center</td>\n",
       "      <td>0</td>\n",
       "      <td>1</td>\n",
       "      <td>NaN</td>\n",
       "    </tr>\n",
       "    <tr>\n",
       "      <td>35712</td>\n",
       "      <td>AJ Hammons</td>\n",
       "      <td>2016-11-04</td>\n",
       "      <td>1.0</td>\n",
       "      <td>0.0</td>\n",
       "      <td>0.0</td>\n",
       "      <td>0.0</td>\n",
       "      <td>0.0</td>\n",
       "      <td>0.0</td>\n",
       "      <td>0.0</td>\n",
       "      <td>0.0</td>\n",
       "      <td>...</td>\n",
       "      <td>0.0</td>\n",
       "      <td>0.0</td>\n",
       "      <td>0.0</td>\n",
       "      <td>0.0</td>\n",
       "      <td>0.0</td>\n",
       "      <td>1992-08-27T00:00:00</td>\n",
       "      <td>Center</td>\n",
       "      <td>0</td>\n",
       "      <td>1</td>\n",
       "      <td>NaN</td>\n",
       "    </tr>\n",
       "    <tr>\n",
       "      <td>35711</td>\n",
       "      <td>AJ Hammons</td>\n",
       "      <td>2016-11-09</td>\n",
       "      <td>6.0</td>\n",
       "      <td>3.0</td>\n",
       "      <td>5.0</td>\n",
       "      <td>0.6</td>\n",
       "      <td>1.0</td>\n",
       "      <td>1.0</td>\n",
       "      <td>1.0</td>\n",
       "      <td>2.0</td>\n",
       "      <td>...</td>\n",
       "      <td>0.0</td>\n",
       "      <td>0.0</td>\n",
       "      <td>0.0</td>\n",
       "      <td>1.0</td>\n",
       "      <td>9.0</td>\n",
       "      <td>1992-08-27T00:00:00</td>\n",
       "      <td>Center</td>\n",
       "      <td>0</td>\n",
       "      <td>1</td>\n",
       "      <td>NaN</td>\n",
       "    </tr>\n",
       "    <tr>\n",
       "      <td>35710</td>\n",
       "      <td>AJ Hammons</td>\n",
       "      <td>2016-11-14</td>\n",
       "      <td>3.0</td>\n",
       "      <td>0.0</td>\n",
       "      <td>0.0</td>\n",
       "      <td>0.0</td>\n",
       "      <td>0.0</td>\n",
       "      <td>0.0</td>\n",
       "      <td>0.0</td>\n",
       "      <td>0.0</td>\n",
       "      <td>...</td>\n",
       "      <td>0.0</td>\n",
       "      <td>1.0</td>\n",
       "      <td>0.0</td>\n",
       "      <td>0.0</td>\n",
       "      <td>0.0</td>\n",
       "      <td>1992-08-27T00:00:00</td>\n",
       "      <td>Center</td>\n",
       "      <td>0</td>\n",
       "      <td>1</td>\n",
       "      <td>NaN</td>\n",
       "    </tr>\n",
       "    <tr>\n",
       "      <td>35709</td>\n",
       "      <td>AJ Hammons</td>\n",
       "      <td>2016-11-18</td>\n",
       "      <td>3.0</td>\n",
       "      <td>0.0</td>\n",
       "      <td>0.0</td>\n",
       "      <td>0.0</td>\n",
       "      <td>0.0</td>\n",
       "      <td>0.0</td>\n",
       "      <td>0.0</td>\n",
       "      <td>0.0</td>\n",
       "      <td>...</td>\n",
       "      <td>0.0</td>\n",
       "      <td>1.0</td>\n",
       "      <td>0.0</td>\n",
       "      <td>0.0</td>\n",
       "      <td>0.0</td>\n",
       "      <td>1992-08-27T00:00:00</td>\n",
       "      <td>Center</td>\n",
       "      <td>0</td>\n",
       "      <td>1</td>\n",
       "      <td>NaN</td>\n",
       "    </tr>\n",
       "  </tbody>\n",
       "</table>\n",
       "<p>5 rows × 26 columns</p>\n",
       "</div>"
      ],
      "text/plain": [
       "        full_name       Date  MIN  FGM  FGA  FG_PCT  FG3M  FG3A  FG3_PCT  FTM  \\\n",
       "35713  AJ Hammons 2016-10-28  1.0  0.0  0.0     0.0   0.0   0.0      0.0  0.0   \n",
       "35712  AJ Hammons 2016-11-04  1.0  0.0  0.0     0.0   0.0   0.0      0.0  0.0   \n",
       "35711  AJ Hammons 2016-11-09  6.0  3.0  5.0     0.6   1.0   1.0      1.0  2.0   \n",
       "35710  AJ Hammons 2016-11-14  3.0  0.0  0.0     0.0   0.0   0.0      0.0  0.0   \n",
       "35709  AJ Hammons 2016-11-18  3.0  0.0  0.0     0.0   0.0   0.0      0.0  0.0   \n",
       "\n",
       "       ...  STL  BLK  TOV   PF  PTS            BIRTHDATE  POSITION  \\\n",
       "35713  ...  0.0  0.0  0.0  0.0  0.0  1992-08-27T00:00:00    Center   \n",
       "35712  ...  0.0  0.0  0.0  0.0  0.0  1992-08-27T00:00:00    Center   \n",
       "35711  ...  0.0  0.0  0.0  1.0  9.0  1992-08-27T00:00:00    Center   \n",
       "35710  ...  0.0  1.0  0.0  0.0  0.0  1992-08-27T00:00:00    Center   \n",
       "35709  ...  0.0  1.0  0.0  0.0  0.0  1992-08-27T00:00:00    Center   \n",
       "\n",
       "       InjuryFlag  GameFlag  injury_anat_partone  \n",
       "35713           0         1                  NaN  \n",
       "35712           0         1                  NaN  \n",
       "35711           0         1                  NaN  \n",
       "35710           0         1                  NaN  \n",
       "35709           0         1                  NaN  \n",
       "\n",
       "[5 rows x 26 columns]"
      ]
     },
     "execution_count": 140,
     "metadata": {},
     "output_type": "execute_result"
    }
   ],
   "source": [
    "injury_games_df = pd.concat([hist_player_log_full[GAME_LOG_COLUMNS],\n",
    "                                    full_injury_data_final[INJURY_DATA_COLUMNS].rename(columns={'full_name_main':'full_name'})], ignore_index=True, sort=False)\n",
    "injury_games_df = injury_games_df.sort_values(['full_name', 'Date'])\n",
    "injury_games_df.head()"
   ]
  },
  {
   "cell_type": "code",
   "execution_count": 141,
   "metadata": {
    "hidden": true
   },
   "outputs": [],
   "source": [
    "injury_games_max = (injury_games_df\n",
    ".groupby(['full_name','POSITION', 'InjuryFlag'])['Date']\n",
    ".agg(['min', 'max'])\n",
    ".reset_index())\n",
    "\n",
    "injury_games_wide = (\n",
    "(injury_games_max[injury_games_max['InjuryFlag']==0][['full_name','POSITION','min']].rename(columns={'min':'first_game_date'})\n",
    ".merge(injury_games_max[injury_games_max['InjuryFlag']==1][['full_name','POSITION','min']].rename(columns={'min':'first_injury_date'}), how='left'))\n",
    ".merge(injury_games_max[injury_games_max['InjuryFlag']==0][['full_name','POSITION','max']].rename(columns={'max':'last_game_date'})))"
   ]
  },
  {
   "cell_type": "code",
   "execution_count": 142,
   "metadata": {
    "hidden": true
   },
   "outputs": [],
   "source": [
    "injury_games_wide['InjuryFlag'] = np.where(injury_games_wide['first_injury_date'].isnull(), False, True)\n",
    "injury_games_wide['survival_days'] = np.where(injury_games_wide['InjuryFlag']==False,\n",
    "                                              injury_games_wide['last_game_date']-injury_games_wide['first_game_date'],\n",
    "                                             injury_games_wide['first_injury_date']-injury_games_wide['first_game_date'])\n",
    "injury_games_wide['survival_days'] = injury_games_wide['survival_days'].apply(lambda x: x.days)\n",
    "injury_games_wide = injury_games_wide[injury_games_wide['survival_days']>0]"
   ]
  },
  {
   "cell_type": "markdown",
   "metadata": {},
   "source": [
    "# Survival analysis\n",
    "- time to first injury"
   ]
  },
  {
   "cell_type": "code",
   "execution_count": 143,
   "metadata": {},
   "outputs": [
    {
     "name": "stderr",
     "output_type": "stream",
     "text": [
      "<>:7: DeprecationWarning: invalid escape sequence \\h\n"
     ]
    },
    {
     "data": {
      "text/plain": [
       "Text(0.5, 0, 'time $t$')"
      ]
     },
     "execution_count": 143,
     "metadata": {},
     "output_type": "execute_result"
    },
    {
     "data": {
      "image/png": "[encoded data removed]",
      "text/plain": [
       "<Figure size 432x288 with 1 Axes>"
      ]
     },
     "metadata": {
      "needs_background": "light"
     },
     "output_type": "display_data"
    }
   ],
   "source": [
    "from sksurv.nonparametric import kaplan_meier_estimator\n",
    "\n",
    "time, survival_prob = kaplan_meier_estimator(injury_games_wide['InjuryFlag'], injury_games_wide['survival_days'])\n",
    "plt.step(time, survival_prob, where=\"post\")\n",
    "plt.ylabel(\"est. probability of survival $\\hat{S}(t)$\")\n",
    "plt.xlabel(\"time $t$\")"
   ]
  },
  {
   "cell_type": "code",
   "execution_count": 144,
   "metadata": {},
   "outputs": [
    {
     "name": "stderr",
     "output_type": "stream",
     "text": [
      "<>:9: DeprecationWarning: invalid escape sequence \\h\n"
     ]
    },
    {
     "data": {
      "text/plain": [
       "<matplotlib.legend.Legend at 0x2093190a348>"
      ]
     },
     "execution_count": 144,
     "metadata": {},
     "output_type": "execute_result"
    },
    {
     "data": {
      "image/png": "[encoded data removed]",
      "text/plain": [
       "<Figure size 720x720 with 1 Axes>"
      ]
     },
     "metadata": {
      "needs_background": "light"
     },
     "output_type": "display_data"
    }
   ],
   "source": [
    "plt.figure(figsize=(10,10))\n",
    "for POSIT in injury_games_wide['POSITION'].unique():\n",
    "    \n",
    "    time_cell, survival_prob_cell = kaplan_meier_estimator(injury_games_wide[injury_games_wide[\"POSITION\"] == POSIT]['InjuryFlag'],\n",
    "                                                           injury_games_wide[injury_games_wide[\"POSITION\"] == POSIT]['survival_days'])\n",
    "    plt.step(time_cell, survival_prob_cell, where=\"post\",\n",
    "             label=(POSIT))\n",
    "\n",
    "plt.ylabel(\"est. probability of survival $\\hat{S}(t)$\")\n",
    "plt.xlabel(\"time $t$\")\n",
    "plt.legend(loc=\"best\")"
   ]
  },
  {
   "cell_type": "code",
   "execution_count": null,
   "metadata": {},
   "outputs": [],
   "source": []
  }
 ],
 "metadata": {
  "kernelspec": {
   "display_name": "Python 3",
   "language": "python",
   "name": "python3"
  },
  "language_info": {
   "codemirror_mode": {
    "name": "ipython",
    "version": 3
   },
   "file_extension": ".py",
   "mimetype": "text/x-python",
   "name": "python",
   "nbconvert_exporter": "python",
   "pygments_lexer": "ipython3",
   "version": "3.7.4"
  }
 },
 "nbformat": 4,
 "nbformat_minor": 2
}

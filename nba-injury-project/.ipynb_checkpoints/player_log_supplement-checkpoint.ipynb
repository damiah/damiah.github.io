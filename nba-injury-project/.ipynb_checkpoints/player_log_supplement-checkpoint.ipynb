{
 "cells": [
  {
   "cell_type": "code",
   "execution_count": 1,
   "metadata": {},
   "outputs": [],
   "source": [
    "from nba_api.stats.endpoints import playergamelog, leaguegamelog, commonplayerinfo\n",
    "from nba_api.stats.static import players\n",
    "from nba_api.stats.library.parameters import SeasonType\n",
    "import pandas as pd\n",
    "import time"
   ]
  },
  {
   "cell_type": "code",
   "execution_count": 3,
   "metadata": {},
   "outputs": [],
   "source": [
    "nba_players = players.get_players()"
   ]
  },
  {
   "cell_type": "code",
   "execution_count": null,
   "metadata": {},
   "outputs": [],
   "source": [
    "#Grab all player logs from Tuesday, October 27, 2015 (start of 15-16 season)\n",
    "hist_player_log_sup = pd.DataFrame()\n",
    "nba_players[0]['full_name']\n",
    "for i in range(0, len(nba_players)):\n",
    "    player_id = nba_players[i]['id']\n",
    "    hist_player_log = playergamelog.PlayerGameLog(player_id=player_id, date_from_nullable='10/27/2010'\n",
    "                                                  , date_to_nullable='10/26/2015', season_all='ALL'\n",
    "                                                  , season_type_all_star='Regular Season').get_data_frames()[0]\n",
    "    hist_player_log['full_name'] = nba_players[i]['full_name']\n",
    "    hist_player_log_sup = hist_player_log_sup.append(hist_player_log, ignore_index=True)\n",
    "    time.sleep(0.5)"
   ]
  },
  {
   "cell_type": "code",
   "execution_count": null,
   "metadata": {},
   "outputs": [],
   "source": [
    "hist_player_log_sup.to_csv('hist_player_log_20102015.csv', index=False)"
   ]
  }
 ],
 "metadata": {
  "kernelspec": {
   "display_name": "Python 3",
   "language": "python",
   "name": "python3"
  },
  "language_info": {
   "codemirror_mode": {
    "name": "ipython",
    "version": 3
   },
   "file_extension": ".py",
   "mimetype": "text/x-python",
   "name": "python",
   "nbconvert_exporter": "python",
   "pygments_lexer": "ipython3",
   "version": "3.7.2"
  }
 },
 "nbformat": 4,
 "nbformat_minor": 2
}
